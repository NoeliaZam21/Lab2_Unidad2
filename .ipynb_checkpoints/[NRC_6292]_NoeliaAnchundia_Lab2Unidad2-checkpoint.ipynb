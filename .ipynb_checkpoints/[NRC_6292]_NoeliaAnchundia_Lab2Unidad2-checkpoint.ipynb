{
 "cells": [
  {
   "cell_type": "markdown",
   "id": "3d59c703",
   "metadata": {},
   "source": [
    "# Limpieza de datos  \n"
   ]
  },
  {
   "cell_type": "markdown",
   "id": "8f61f472",
   "metadata": {},
   "source": [
    "### Librerías"
   ]
  },
  {
   "cell_type": "code",
   "execution_count": 293,
   "id": "65051af6",
   "metadata": {},
   "outputs": [],
   "source": [
    "\"\"\"Importar las librerias\"\"\"\n",
    "import pandas as pd\n",
    "import numpy as np\n",
    "import json\n",
    "from pandas import json_normalize"
   ]
  },
  {
   "cell_type": "markdown",
   "id": "25b65cb1",
   "metadata": {},
   "source": [
    "## Carga y Lectura del Dataset"
   ]
  },
  {
   "cell_type": "code",
   "execution_count": 294,
   "id": "e3d23908",
   "metadata": {},
   "outputs": [
    {
     "data": {
      "text/html": [
       "<div>\n",
       "<style scoped>\n",
       "    .dataframe tbody tr th:only-of-type {\n",
       "        vertical-align: middle;\n",
       "    }\n",
       "\n",
       "    .dataframe tbody tr th {\n",
       "        vertical-align: top;\n",
       "    }\n",
       "\n",
       "    .dataframe thead th {\n",
       "        text-align: right;\n",
       "    }\n",
       "</style>\n",
       "<table border=\"1\" class=\"dataframe\">\n",
       "  <thead>\n",
       "    <tr style=\"text-align: right;\">\n",
       "      <th></th>\n",
       "      <th>CrimeId</th>\n",
       "      <th>OriginalCrimeTypeName</th>\n",
       "      <th>OffenseDate</th>\n",
       "      <th>CallTime</th>\n",
       "      <th>CallDateTime</th>\n",
       "      <th>Disposition</th>\n",
       "      <th>Address</th>\n",
       "      <th>City</th>\n",
       "      <th>State</th>\n",
       "      <th>AgencyId</th>\n",
       "      <th>Range</th>\n",
       "      <th>AddressType</th>\n",
       "    </tr>\n",
       "  </thead>\n",
       "  <tbody>\n",
       "    <tr>\n",
       "      <th>0</th>\n",
       "      <td>160903280</td>\n",
       "      <td>Assault / Battery</td>\n",
       "      <td>2016-03-30T00:00:00</td>\n",
       "      <td>18:42</td>\n",
       "      <td>2016-03-30T18:42:00</td>\n",
       "      <td>REP</td>\n",
       "      <td>100 Block Of Chilton Av</td>\n",
       "      <td>San Francisco</td>\n",
       "      <td>CA</td>\n",
       "      <td>1</td>\n",
       "      <td>NaN</td>\n",
       "      <td>Premise Address</td>\n",
       "    </tr>\n",
       "    <tr>\n",
       "      <th>1</th>\n",
       "      <td>160912272</td>\n",
       "      <td>Homeless Complaint</td>\n",
       "      <td>2016-03-31T00:00:00</td>\n",
       "      <td>15:31</td>\n",
       "      <td>2016-03-31T15:31:00</td>\n",
       "      <td>GOA</td>\n",
       "      <td>2300 Block Of Market St</td>\n",
       "      <td>San Francisco</td>\n",
       "      <td>CA</td>\n",
       "      <td>1</td>\n",
       "      <td>NaN</td>\n",
       "      <td>Premise Address</td>\n",
       "    </tr>\n",
       "    <tr>\n",
       "      <th>2</th>\n",
       "      <td>160912590</td>\n",
       "      <td>Susp Info</td>\n",
       "      <td>2016-03-31T00:00:00</td>\n",
       "      <td>16:49</td>\n",
       "      <td>2016-03-31T16:49:00</td>\n",
       "      <td>GOA</td>\n",
       "      <td>2300 Block Of Market St</td>\n",
       "      <td>San Francisco</td>\n",
       "      <td>CA</td>\n",
       "      <td>1</td>\n",
       "      <td>NaN</td>\n",
       "      <td>Premise Address</td>\n",
       "    </tr>\n",
       "    <tr>\n",
       "      <th>3</th>\n",
       "      <td>160912801</td>\n",
       "      <td>Report</td>\n",
       "      <td>2016-03-31T00:00:00</td>\n",
       "      <td>17:38</td>\n",
       "      <td>2016-03-31T17:38:00</td>\n",
       "      <td>GOA</td>\n",
       "      <td>500 Block Of 7th St</td>\n",
       "      <td>San Francisco</td>\n",
       "      <td>CA</td>\n",
       "      <td>1</td>\n",
       "      <td>NaN</td>\n",
       "      <td>Premise Address</td>\n",
       "    </tr>\n",
       "    <tr>\n",
       "      <th>4</th>\n",
       "      <td>160912811</td>\n",
       "      <td>594</td>\n",
       "      <td>2016-03-31T00:00:00</td>\n",
       "      <td>17:42</td>\n",
       "      <td>2016-03-31T17:42:00</td>\n",
       "      <td>REP</td>\n",
       "      <td>Beale St/bryant St</td>\n",
       "      <td>San Francisco</td>\n",
       "      <td>CA</td>\n",
       "      <td>1</td>\n",
       "      <td>NaN</td>\n",
       "      <td>Intersection</td>\n",
       "    </tr>\n",
       "    <tr>\n",
       "      <th>...</th>\n",
       "      <td>...</td>\n",
       "      <td>...</td>\n",
       "      <td>...</td>\n",
       "      <td>...</td>\n",
       "      <td>...</td>\n",
       "      <td>...</td>\n",
       "      <td>...</td>\n",
       "      <td>...</td>\n",
       "      <td>...</td>\n",
       "      <td>...</td>\n",
       "      <td>...</td>\n",
       "      <td>...</td>\n",
       "    </tr>\n",
       "    <tr>\n",
       "      <th>10046</th>\n",
       "      <td>160964210</td>\n",
       "      <td>Well Being Check</td>\n",
       "      <td>2016-04-05T00:00:00</td>\n",
       "      <td>23:38</td>\n",
       "      <td>2016-04-05T23:38:00</td>\n",
       "      <td>GOA</td>\n",
       "      <td>Hollister Av/hawes St</td>\n",
       "      <td>San Francisco</td>\n",
       "      <td>CA</td>\n",
       "      <td>1</td>\n",
       "      <td>NaN</td>\n",
       "      <td>Intersection</td>\n",
       "    </tr>\n",
       "    <tr>\n",
       "      <th>10047</th>\n",
       "      <td>160964216</td>\n",
       "      <td>Traffic Stop</td>\n",
       "      <td>2016-04-05T00:00:00</td>\n",
       "      <td>23:43</td>\n",
       "      <td>2016-04-05T23:43:00</td>\n",
       "      <td>ADV</td>\n",
       "      <td>California St/mason St</td>\n",
       "      <td>San Francisco</td>\n",
       "      <td>CA</td>\n",
       "      <td>1</td>\n",
       "      <td>NaN</td>\n",
       "      <td>Intersection</td>\n",
       "    </tr>\n",
       "    <tr>\n",
       "      <th>10048</th>\n",
       "      <td>160964227</td>\n",
       "      <td>Traffic Stop</td>\n",
       "      <td>2016-04-05T00:00:00</td>\n",
       "      <td>23:48</td>\n",
       "      <td>2016-04-05T23:48:00</td>\n",
       "      <td>CIT</td>\n",
       "      <td>Rosella Ct/onondaga Av</td>\n",
       "      <td>San Francisco</td>\n",
       "      <td>CA</td>\n",
       "      <td>1</td>\n",
       "      <td>NaN</td>\n",
       "      <td>Intersection</td>\n",
       "    </tr>\n",
       "    <tr>\n",
       "      <th>10049</th>\n",
       "      <td>160964229</td>\n",
       "      <td>Passing Call</td>\n",
       "      <td>2016-04-05T00:00:00</td>\n",
       "      <td>23:48</td>\n",
       "      <td>2016-04-05T23:48:00</td>\n",
       "      <td>Not recorded</td>\n",
       "      <td>0 Blk Herbst Rd</td>\n",
       "      <td>San Francisco</td>\n",
       "      <td>CA</td>\n",
       "      <td>1</td>\n",
       "      <td>NaN</td>\n",
       "      <td>Geo-Override</td>\n",
       "    </tr>\n",
       "    <tr>\n",
       "      <th>10050</th>\n",
       "      <td>160964249</td>\n",
       "      <td>Traffic Stop</td>\n",
       "      <td>2016-04-05T00:00:00</td>\n",
       "      <td>23:54</td>\n",
       "      <td>2016-04-05T23:54:00</td>\n",
       "      <td>ADV</td>\n",
       "      <td>Grant Av/geary St</td>\n",
       "      <td>San Francisco</td>\n",
       "      <td>CA</td>\n",
       "      <td>1</td>\n",
       "      <td>NaN</td>\n",
       "      <td>Intersection</td>\n",
       "    </tr>\n",
       "  </tbody>\n",
       "</table>\n",
       "<p>10051 rows × 12 columns</p>\n",
       "</div>"
      ],
      "text/plain": [
       "         CrimeId OriginalCrimeTypeName          OffenseDate CallTime  \\\n",
       "0      160903280     Assault / Battery  2016-03-30T00:00:00    18:42   \n",
       "1      160912272    Homeless Complaint  2016-03-31T00:00:00    15:31   \n",
       "2      160912590             Susp Info  2016-03-31T00:00:00    16:49   \n",
       "3      160912801                Report  2016-03-31T00:00:00    17:38   \n",
       "4      160912811                   594  2016-03-31T00:00:00    17:42   \n",
       "...          ...                   ...                  ...      ...   \n",
       "10046  160964210      Well Being Check  2016-04-05T00:00:00    23:38   \n",
       "10047  160964216          Traffic Stop  2016-04-05T00:00:00    23:43   \n",
       "10048  160964227          Traffic Stop  2016-04-05T00:00:00    23:48   \n",
       "10049  160964229          Passing Call  2016-04-05T00:00:00    23:48   \n",
       "10050  160964249          Traffic Stop  2016-04-05T00:00:00    23:54   \n",
       "\n",
       "              CallDateTime   Disposition                  Address  \\\n",
       "0      2016-03-30T18:42:00           REP  100 Block Of Chilton Av   \n",
       "1      2016-03-31T15:31:00           GOA  2300 Block Of Market St   \n",
       "2      2016-03-31T16:49:00           GOA  2300 Block Of Market St   \n",
       "3      2016-03-31T17:38:00           GOA      500 Block Of 7th St   \n",
       "4      2016-03-31T17:42:00           REP       Beale St/bryant St   \n",
       "...                    ...           ...                      ...   \n",
       "10046  2016-04-05T23:38:00           GOA    Hollister Av/hawes St   \n",
       "10047  2016-04-05T23:43:00           ADV   California St/mason St   \n",
       "10048  2016-04-05T23:48:00           CIT   Rosella Ct/onondaga Av   \n",
       "10049  2016-04-05T23:48:00  Not recorded          0 Blk Herbst Rd   \n",
       "10050  2016-04-05T23:54:00           ADV        Grant Av/geary St   \n",
       "\n",
       "                City State AgencyId  Range      AddressType  \n",
       "0      San Francisco    CA        1    NaN  Premise Address  \n",
       "1      San Francisco    CA        1    NaN  Premise Address  \n",
       "2      San Francisco    CA        1    NaN  Premise Address  \n",
       "3      San Francisco    CA        1    NaN  Premise Address  \n",
       "4      San Francisco    CA        1    NaN     Intersection  \n",
       "...              ...   ...      ...    ...              ...  \n",
       "10046  San Francisco    CA        1    NaN     Intersection  \n",
       "10047  San Francisco    CA        1    NaN     Intersection  \n",
       "10048  San Francisco    CA        1    NaN     Intersection  \n",
       "10049  San Francisco    CA        1    NaN     Geo-Override  \n",
       "10050  San Francisco    CA        1    NaN     Intersection  \n",
       "\n",
       "[10051 rows x 12 columns]"
      ]
     },
     "execution_count": 294,
     "metadata": {},
     "output_type": "execute_result"
    }
   ],
   "source": [
    "\"\"\"Cargar el dataset\"\"\"\n",
    "df=pd.read_csv(\"data_act_01.csv\", sep=';')\n",
    "df"
   ]
  },
  {
   "cell_type": "markdown",
   "id": "eba7c9ba",
   "metadata": {},
   "source": [
    "Interpretación:  Analizando brevemente los datos que tenemos en el dataset observamos ciertas inconsistencias. De manera aque el dataset está sucio porque en la mayoría de sus campos (columnas), exiten datos de tipo string y numericos, existen muchos campos con asteriscos o simbolos que no van de acuerdo con la información. También existen filas que tienen campos nulos y sin sentido mucho. Por lo cuál se procede a realizar varios procesos de limpieza para mejorar la apariencia e integridad del Dataset. "
   ]
  },
  {
   "cell_type": "markdown",
   "id": "2b822c1f",
   "metadata": {},
   "source": [
    "### Descripción del Dataset"
   ]
  },
  {
   "cell_type": "code",
   "execution_count": 295,
   "id": "0ef13f6f",
   "metadata": {},
   "outputs": [
    {
     "name": "stdout",
     "output_type": "stream",
     "text": [
      "<class 'pandas.core.frame.DataFrame'>\n",
      "RangeIndex: 10051 entries, 0 to 10050\n",
      "Data columns (total 12 columns):\n",
      " #   Column                 Non-Null Count  Dtype  \n",
      "---  ------                 --------------  -----  \n",
      " 0   CrimeId                10051 non-null  int64  \n",
      " 1   OriginalCrimeTypeName  10051 non-null  object \n",
      " 2   OffenseDate            10051 non-null  object \n",
      " 3   CallTime               10051 non-null  object \n",
      " 4   CallDateTime           10051 non-null  object \n",
      " 5   Disposition            10051 non-null  object \n",
      " 6   Address                10051 non-null  object \n",
      " 7   City                   9730 non-null   object \n",
      " 8   State                  10048 non-null  object \n",
      " 9   AgencyId               10051 non-null  object \n",
      " 10  Range                  0 non-null      float64\n",
      " 11  AddressType            10051 non-null  object \n",
      "dtypes: float64(1), int64(1), object(10)\n",
      "memory usage: 942.4+ KB\n"
     ]
    }
   ],
   "source": [
    "\"\"\"Desplegar la descripción del conjunto de datos\"\"\"\n",
    "df.info()"
   ]
  },
  {
   "cell_type": "markdown",
   "id": "dc09a77f",
   "metadata": {},
   "source": [
    "Interpretación: Con el comando info() se obtiene un análisis más específico de cada columna y sus valores. Es así que se logra apreciar el tipo de datos que tienen cada columna, y como es vidente muchas de ellas no son netamente de un solo tipo. Desde aquí se puede saber a las columnas con las cuáles se deberá trabajar."
   ]
  },
  {
   "cell_type": "markdown",
   "id": "6a0f28e9",
   "metadata": {},
   "source": [
    "## Métodos de limpieza de los datos"
   ]
  },
  {
   "cell_type": "markdown",
   "id": "88d4bff8",
   "metadata": {},
   "source": [
    "#### 1) Eliminar la columna \"Range\" con campos vacios"
   ]
  },
  {
   "cell_type": "code",
   "execution_count": 296,
   "id": "96dc071d",
   "metadata": {},
   "outputs": [],
   "source": [
    "\"\"\"Eliminamos la columna Range\"\"\"\n",
    "to_drop = ['Range']\n",
    "df.drop(to_drop, inplace=True, axis=1)"
   ]
  },
  {
   "cell_type": "code",
   "execution_count": 297,
   "id": "537120a9",
   "metadata": {},
   "outputs": [
    {
     "data": {
      "text/html": [
       "<div>\n",
       "<style scoped>\n",
       "    .dataframe tbody tr th:only-of-type {\n",
       "        vertical-align: middle;\n",
       "    }\n",
       "\n",
       "    .dataframe tbody tr th {\n",
       "        vertical-align: top;\n",
       "    }\n",
       "\n",
       "    .dataframe thead th {\n",
       "        text-align: right;\n",
       "    }\n",
       "</style>\n",
       "<table border=\"1\" class=\"dataframe\">\n",
       "  <thead>\n",
       "    <tr style=\"text-align: right;\">\n",
       "      <th></th>\n",
       "      <th>CrimeId</th>\n",
       "      <th>OriginalCrimeTypeName</th>\n",
       "      <th>OffenseDate</th>\n",
       "      <th>CallTime</th>\n",
       "      <th>CallDateTime</th>\n",
       "      <th>Disposition</th>\n",
       "      <th>Address</th>\n",
       "      <th>City</th>\n",
       "      <th>State</th>\n",
       "      <th>AgencyId</th>\n",
       "      <th>AddressType</th>\n",
       "    </tr>\n",
       "  </thead>\n",
       "  <tbody>\n",
       "    <tr>\n",
       "      <th>0</th>\n",
       "      <td>160903280</td>\n",
       "      <td>Assault / Battery</td>\n",
       "      <td>2016-03-30T00:00:00</td>\n",
       "      <td>18:42</td>\n",
       "      <td>2016-03-30T18:42:00</td>\n",
       "      <td>REP</td>\n",
       "      <td>100 Block Of Chilton Av</td>\n",
       "      <td>San Francisco</td>\n",
       "      <td>CA</td>\n",
       "      <td>1</td>\n",
       "      <td>Premise Address</td>\n",
       "    </tr>\n",
       "    <tr>\n",
       "      <th>1</th>\n",
       "      <td>160912272</td>\n",
       "      <td>Homeless Complaint</td>\n",
       "      <td>2016-03-31T00:00:00</td>\n",
       "      <td>15:31</td>\n",
       "      <td>2016-03-31T15:31:00</td>\n",
       "      <td>GOA</td>\n",
       "      <td>2300 Block Of Market St</td>\n",
       "      <td>San Francisco</td>\n",
       "      <td>CA</td>\n",
       "      <td>1</td>\n",
       "      <td>Premise Address</td>\n",
       "    </tr>\n",
       "    <tr>\n",
       "      <th>2</th>\n",
       "      <td>160912590</td>\n",
       "      <td>Susp Info</td>\n",
       "      <td>2016-03-31T00:00:00</td>\n",
       "      <td>16:49</td>\n",
       "      <td>2016-03-31T16:49:00</td>\n",
       "      <td>GOA</td>\n",
       "      <td>2300 Block Of Market St</td>\n",
       "      <td>San Francisco</td>\n",
       "      <td>CA</td>\n",
       "      <td>1</td>\n",
       "      <td>Premise Address</td>\n",
       "    </tr>\n",
       "    <tr>\n",
       "      <th>3</th>\n",
       "      <td>160912801</td>\n",
       "      <td>Report</td>\n",
       "      <td>2016-03-31T00:00:00</td>\n",
       "      <td>17:38</td>\n",
       "      <td>2016-03-31T17:38:00</td>\n",
       "      <td>GOA</td>\n",
       "      <td>500 Block Of 7th St</td>\n",
       "      <td>San Francisco</td>\n",
       "      <td>CA</td>\n",
       "      <td>1</td>\n",
       "      <td>Premise Address</td>\n",
       "    </tr>\n",
       "    <tr>\n",
       "      <th>4</th>\n",
       "      <td>160912811</td>\n",
       "      <td>594</td>\n",
       "      <td>2016-03-31T00:00:00</td>\n",
       "      <td>17:42</td>\n",
       "      <td>2016-03-31T17:42:00</td>\n",
       "      <td>REP</td>\n",
       "      <td>Beale St/bryant St</td>\n",
       "      <td>San Francisco</td>\n",
       "      <td>CA</td>\n",
       "      <td>1</td>\n",
       "      <td>Intersection</td>\n",
       "    </tr>\n",
       "  </tbody>\n",
       "</table>\n",
       "</div>"
      ],
      "text/plain": [
       "     CrimeId OriginalCrimeTypeName          OffenseDate CallTime  \\\n",
       "0  160903280     Assault / Battery  2016-03-30T00:00:00    18:42   \n",
       "1  160912272    Homeless Complaint  2016-03-31T00:00:00    15:31   \n",
       "2  160912590             Susp Info  2016-03-31T00:00:00    16:49   \n",
       "3  160912801                Report  2016-03-31T00:00:00    17:38   \n",
       "4  160912811                   594  2016-03-31T00:00:00    17:42   \n",
       "\n",
       "          CallDateTime Disposition                  Address           City  \\\n",
       "0  2016-03-30T18:42:00         REP  100 Block Of Chilton Av  San Francisco   \n",
       "1  2016-03-31T15:31:00         GOA  2300 Block Of Market St  San Francisco   \n",
       "2  2016-03-31T16:49:00         GOA  2300 Block Of Market St  San Francisco   \n",
       "3  2016-03-31T17:38:00         GOA      500 Block Of 7th St  San Francisco   \n",
       "4  2016-03-31T17:42:00         REP       Beale St/bryant St  San Francisco   \n",
       "\n",
       "  State AgencyId      AddressType  \n",
       "0    CA        1  Premise Address  \n",
       "1    CA        1  Premise Address  \n",
       "2    CA        1  Premise Address  \n",
       "3    CA        1  Premise Address  \n",
       "4    CA        1     Intersection  "
      ]
     },
     "execution_count": 297,
     "metadata": {},
     "output_type": "execute_result"
    }
   ],
   "source": [
    "df.head()"
   ]
  },
  {
   "cell_type": "markdown",
   "id": "ea1f0335",
   "metadata": {},
   "source": [
    "Interpretación: Se observa como la columna \"Range\" a sido elimina, esto se debe a que no exitia ningún valor. Lo que nos indica que esta columna era super irrelevante para el procesamiento de datos, debidi a esto se procedió a eliminarla. Ahora nuestro dataset cuenta con 11 columnas para seguir analizándolas ya que aún existen muchos datos sucios en las demás columnas. "
   ]
  },
  {
   "cell_type": "markdown",
   "id": "fa5e7199",
   "metadata": {},
   "source": [
    "### Valores Duplicados"
   ]
  },
  {
   "cell_type": "code",
   "execution_count": 250,
   "id": "77293a37",
   "metadata": {},
   "outputs": [
    {
     "data": {
      "text/html": [
       "<div>\n",
       "<style scoped>\n",
       "    .dataframe tbody tr th:only-of-type {\n",
       "        vertical-align: middle;\n",
       "    }\n",
       "\n",
       "    .dataframe tbody tr th {\n",
       "        vertical-align: top;\n",
       "    }\n",
       "\n",
       "    .dataframe thead th {\n",
       "        text-align: right;\n",
       "    }\n",
       "</style>\n",
       "<table border=\"1\" class=\"dataframe\">\n",
       "  <thead>\n",
       "    <tr style=\"text-align: right;\">\n",
       "      <th></th>\n",
       "      <th>CrimeId</th>\n",
       "      <th>OriginalCrimeTypeName</th>\n",
       "      <th>OffenseDate</th>\n",
       "      <th>CallTime</th>\n",
       "      <th>CallDateTime</th>\n",
       "      <th>Disposition</th>\n",
       "      <th>Address</th>\n",
       "      <th>City</th>\n",
       "      <th>State</th>\n",
       "      <th>AgencyId</th>\n",
       "      <th>AddressType</th>\n",
       "    </tr>\n",
       "  </thead>\n",
       "  <tbody>\n",
       "    <tr>\n",
       "      <th>26</th>\n",
       "      <td>160913455</td>\n",
       "      <td>Vandalism</td>\n",
       "      <td>2016-03-31T00:00:00</td>\n",
       "      <td>20:53</td>\n",
       "      <td>2016-03-31T20:53:00</td>\n",
       "      <td>ND</td>\n",
       "      <td>1600 Block Of Sunnydale Av</td>\n",
       "      <td>San Francisco</td>\n",
       "      <td>CA</td>\n",
       "      <td>1</td>\n",
       "      <td>Premise Address</td>\n",
       "    </tr>\n",
       "    <tr>\n",
       "      <th>1707</th>\n",
       "      <td>160913455</td>\n",
       "      <td>Susp</td>\n",
       "      <td>2016-04-01T00:00:00</td>\n",
       "      <td>18:29</td>\n",
       "      <td>2016-04-01T18:29:00</td>\n",
       "      <td>GOA</td>\n",
       "      <td>Geary St/larkin St</td>\n",
       "      <td>San Francisco</td>\n",
       "      <td>CA</td>\n",
       "      <td>1</td>\n",
       "      <td>Intersection</td>\n",
       "    </tr>\n",
       "    <tr>\n",
       "      <th>3792</th>\n",
       "      <td>160913455</td>\n",
       "      <td>Passing Call</td>\n",
       "      <td>2016-04-02T00:00:00</td>\n",
       "      <td>17:11</td>\n",
       "      <td>2016-04-02T17:11:00</td>\n",
       "      <td>Not recorded</td>\n",
       "      <td>900 Block Of Market St</td>\n",
       "      <td>San Francisco</td>\n",
       "      <td>CA</td>\n",
       "      <td>1</td>\n",
       "      <td>Premise Address</td>\n",
       "    </tr>\n",
       "    <tr>\n",
       "      <th>7045</th>\n",
       "      <td>160950496</td>\n",
       "      <td>Passing Call</td>\n",
       "      <td>2016-04-04T00:00:00</td>\n",
       "      <td>6:51</td>\n",
       "      <td>2016-04-04T06:51:00</td>\n",
       "      <td>HAN</td>\n",
       "      <td>University St/felton St</td>\n",
       "      <td>San Francisco</td>\n",
       "      <td>CA</td>\n",
       "      <td>1</td>\n",
       "      <td>Intersection</td>\n",
       "    </tr>\n",
       "    <tr>\n",
       "      <th>7046</th>\n",
       "      <td>160950496</td>\n",
       "      <td>Suspicious Vehicle</td>\n",
       "      <td>2016-04-04T00:00:00</td>\n",
       "      <td>6:51</td>\n",
       "      <td>2016-04-04T06:51:00</td>\n",
       "      <td>ND</td>\n",
       "      <td>1400 Block Of Cabrillo St</td>\n",
       "      <td>San Francisco</td>\n",
       "      <td>CA</td>\n",
       "      <td>1</td>\n",
       "      <td>Premise Address</td>\n",
       "    </tr>\n",
       "    <tr>\n",
       "      <th>7047</th>\n",
       "      <td>160950496</td>\n",
       "      <td>Trespasser</td>\n",
       "      <td>2016-04-04T00:00:00</td>\n",
       "      <td>6:51</td>\n",
       "      <td>2016-04-04T06:51:00</td>\n",
       "      <td>CAN</td>\n",
       "      <td>Block Of Hampshire St</td>\n",
       "      <td>San Francisco</td>\n",
       "      <td>CA</td>\n",
       "      <td>1</td>\n",
       "      <td>Premise Address</td>\n",
       "    </tr>\n",
       "  </tbody>\n",
       "</table>\n",
       "</div>"
      ],
      "text/plain": [
       "        CrimeId OriginalCrimeTypeName          OffenseDate CallTime  \\\n",
       "26    160913455             Vandalism  2016-03-31T00:00:00    20:53   \n",
       "1707  160913455                  Susp  2016-04-01T00:00:00    18:29   \n",
       "3792  160913455          Passing Call  2016-04-02T00:00:00    17:11   \n",
       "7045  160950496          Passing Call  2016-04-04T00:00:00     6:51   \n",
       "7046  160950496    Suspicious Vehicle  2016-04-04T00:00:00     6:51   \n",
       "7047  160950496            Trespasser  2016-04-04T00:00:00     6:51   \n",
       "\n",
       "             CallDateTime   Disposition                     Address  \\\n",
       "26    2016-03-31T20:53:00            ND  1600 Block Of Sunnydale Av   \n",
       "1707  2016-04-01T18:29:00           GOA          Geary St/larkin St   \n",
       "3792  2016-04-02T17:11:00  Not recorded      900 Block Of Market St   \n",
       "7045  2016-04-04T06:51:00           HAN     University St/felton St   \n",
       "7046  2016-04-04T06:51:00            ND   1400 Block Of Cabrillo St   \n",
       "7047  2016-04-04T06:51:00           CAN       Block Of Hampshire St   \n",
       "\n",
       "               City State AgencyId      AddressType  \n",
       "26    San Francisco    CA        1  Premise Address  \n",
       "1707  San Francisco    CA        1     Intersection  \n",
       "3792  San Francisco    CA        1  Premise Address  \n",
       "7045  San Francisco    CA        1     Intersection  \n",
       "7046  San Francisco    CA        1  Premise Address  \n",
       "7047  San Francisco    CA        1  Premise Address  "
      ]
     },
     "execution_count": 250,
     "metadata": {},
     "output_type": "execute_result"
    }
   ],
   "source": [
    "\"\"\"Visualizar los Id duplicados de la columna (CrimeId)\"\"\"\n",
    "delete_duplicados= df[df.duplicated(subset = ['CrimeId'], keep = False)]\n",
    "\n",
    "\"\"\"Mostrar la función\"\"\"\n",
    "delete_duplicados"
   ]
  },
  {
   "cell_type": "code",
   "execution_count": 251,
   "id": "a8578507",
   "metadata": {},
   "outputs": [],
   "source": [
    "\"\"\"Eliminar datos duplicados\"\"\"\n",
    "df = df.drop_duplicates()"
   ]
  },
  {
   "cell_type": "code",
   "execution_count": 252,
   "id": "b18b609d",
   "metadata": {},
   "outputs": [
    {
     "data": {
      "text/html": [
       "<div>\n",
       "<style scoped>\n",
       "    .dataframe tbody tr th:only-of-type {\n",
       "        vertical-align: middle;\n",
       "    }\n",
       "\n",
       "    .dataframe tbody tr th {\n",
       "        vertical-align: top;\n",
       "    }\n",
       "\n",
       "    .dataframe thead th {\n",
       "        text-align: right;\n",
       "    }\n",
       "</style>\n",
       "<table border=\"1\" class=\"dataframe\">\n",
       "  <thead>\n",
       "    <tr style=\"text-align: right;\">\n",
       "      <th></th>\n",
       "      <th>CrimeId</th>\n",
       "      <th>OriginalCrimeTypeName</th>\n",
       "      <th>OffenseDate</th>\n",
       "      <th>CallTime</th>\n",
       "      <th>CallDateTime</th>\n",
       "      <th>Disposition</th>\n",
       "      <th>Address</th>\n",
       "      <th>City</th>\n",
       "      <th>State</th>\n",
       "      <th>AgencyId</th>\n",
       "      <th>AddressType</th>\n",
       "    </tr>\n",
       "  </thead>\n",
       "  <tbody>\n",
       "    <tr>\n",
       "      <th>26</th>\n",
       "      <td>160913455</td>\n",
       "      <td>Vandalism</td>\n",
       "      <td>2016-03-31T00:00:00</td>\n",
       "      <td>20:53</td>\n",
       "      <td>2016-03-31T20:53:00</td>\n",
       "      <td>ND</td>\n",
       "      <td>1600 Block Of Sunnydale Av</td>\n",
       "      <td>San Francisco</td>\n",
       "      <td>CA</td>\n",
       "      <td>1</td>\n",
       "      <td>Premise Address</td>\n",
       "    </tr>\n",
       "    <tr>\n",
       "      <th>1707</th>\n",
       "      <td>160913455</td>\n",
       "      <td>Susp</td>\n",
       "      <td>2016-04-01T00:00:00</td>\n",
       "      <td>18:29</td>\n",
       "      <td>2016-04-01T18:29:00</td>\n",
       "      <td>GOA</td>\n",
       "      <td>Geary St/larkin St</td>\n",
       "      <td>San Francisco</td>\n",
       "      <td>CA</td>\n",
       "      <td>1</td>\n",
       "      <td>Intersection</td>\n",
       "    </tr>\n",
       "    <tr>\n",
       "      <th>3792</th>\n",
       "      <td>160913455</td>\n",
       "      <td>Passing Call</td>\n",
       "      <td>2016-04-02T00:00:00</td>\n",
       "      <td>17:11</td>\n",
       "      <td>2016-04-02T17:11:00</td>\n",
       "      <td>Not recorded</td>\n",
       "      <td>900 Block Of Market St</td>\n",
       "      <td>San Francisco</td>\n",
       "      <td>CA</td>\n",
       "      <td>1</td>\n",
       "      <td>Premise Address</td>\n",
       "    </tr>\n",
       "    <tr>\n",
       "      <th>7045</th>\n",
       "      <td>160950496</td>\n",
       "      <td>Passing Call</td>\n",
       "      <td>2016-04-04T00:00:00</td>\n",
       "      <td>6:51</td>\n",
       "      <td>2016-04-04T06:51:00</td>\n",
       "      <td>HAN</td>\n",
       "      <td>University St/felton St</td>\n",
       "      <td>San Francisco</td>\n",
       "      <td>CA</td>\n",
       "      <td>1</td>\n",
       "      <td>Intersection</td>\n",
       "    </tr>\n",
       "    <tr>\n",
       "      <th>7046</th>\n",
       "      <td>160950496</td>\n",
       "      <td>Suspicious Vehicle</td>\n",
       "      <td>2016-04-04T00:00:00</td>\n",
       "      <td>6:51</td>\n",
       "      <td>2016-04-04T06:51:00</td>\n",
       "      <td>ND</td>\n",
       "      <td>1400 Block Of Cabrillo St</td>\n",
       "      <td>San Francisco</td>\n",
       "      <td>CA</td>\n",
       "      <td>1</td>\n",
       "      <td>Premise Address</td>\n",
       "    </tr>\n",
       "  </tbody>\n",
       "</table>\n",
       "</div>"
      ],
      "text/plain": [
       "        CrimeId OriginalCrimeTypeName          OffenseDate CallTime  \\\n",
       "26    160913455             Vandalism  2016-03-31T00:00:00    20:53   \n",
       "1707  160913455                  Susp  2016-04-01T00:00:00    18:29   \n",
       "3792  160913455          Passing Call  2016-04-02T00:00:00    17:11   \n",
       "7045  160950496          Passing Call  2016-04-04T00:00:00     6:51   \n",
       "7046  160950496    Suspicious Vehicle  2016-04-04T00:00:00     6:51   \n",
       "\n",
       "             CallDateTime   Disposition                     Address  \\\n",
       "26    2016-03-31T20:53:00            ND  1600 Block Of Sunnydale Av   \n",
       "1707  2016-04-01T18:29:00           GOA          Geary St/larkin St   \n",
       "3792  2016-04-02T17:11:00  Not recorded      900 Block Of Market St   \n",
       "7045  2016-04-04T06:51:00           HAN     University St/felton St   \n",
       "7046  2016-04-04T06:51:00            ND   1400 Block Of Cabrillo St   \n",
       "\n",
       "               City State AgencyId      AddressType  \n",
       "26    San Francisco    CA        1  Premise Address  \n",
       "1707  San Francisco    CA        1     Intersection  \n",
       "3792  San Francisco    CA        1  Premise Address  \n",
       "7045  San Francisco    CA        1     Intersection  \n",
       "7046  San Francisco    CA        1  Premise Address  "
      ]
     },
     "execution_count": 252,
     "metadata": {},
     "output_type": "execute_result"
    }
   ],
   "source": [
    "\"\"\"Verificación de la eliminación de los Id duplicados\"\"\"\n",
    "delete_duplicados.head()"
   ]
  },
  {
   "cell_type": "markdown",
   "id": "bdadf585",
   "metadata": {},
   "source": [
    "Interpretación: Existe una columna llamada \"CrimeId\" la cual contiene a los Id de todos los casos criminales que existen en dichas ciudades. Pero aqui se observa un error y es que exiten dos Id que se repiten 3 veces cada uno. Evidentemente, esto esta mal ya que cada caso policial tiene un Id único, por ende, se los eliminó todos los Id de crimenes duplicados por medio del comando \"drop_duplicates\", dejando de esta manera la columna \"CrimeId\" limpia y sin Id de crímenes duplicados. Podemos decir entonces que se ha realizando un paso más de limpieza de datos."
   ]
  },
  {
   "cell_type": "markdown",
   "id": "c4ee6ab6",
   "metadata": {},
   "source": [
    "### Valores Nulos"
   ]
  },
  {
   "cell_type": "code",
   "execution_count": 253,
   "id": "dcad648d",
   "metadata": {},
   "outputs": [
    {
     "data": {
      "text/plain": [
       "CrimeId                    0\n",
       "OriginalCrimeTypeName      0\n",
       "OffenseDate                0\n",
       "CallTime                   0\n",
       "CallDateTime               0\n",
       "Disposition                0\n",
       "Address                    0\n",
       "City                     321\n",
       "State                      3\n",
       "AgencyId                   0\n",
       "AddressType                0\n",
       "dtype: int64"
      ]
     },
     "execution_count": 253,
     "metadata": {},
     "output_type": "execute_result"
    }
   ],
   "source": [
    "\"\"\"Identificación de valores nulos\"\"\"\n",
    "df.isnull().sum()"
   ]
  },
  {
   "cell_type": "markdown",
   "id": "f47bd024",
   "metadata": {},
   "source": [
    "Interpretación: Visualizamos que dentro de todas nuestras columnas existen solamente dos que tienen datos o campos con valores nulos. Estas son, \"City\" con 321 valores nulos y \"State\" con 3 valores nulos. Es así que con dicho análisis hemos encontrado donde tenemos el problema, por lo tanto, se procede a ejecutar la función que permita cambiar estos valores. "
   ]
  },
  {
   "cell_type": "code",
   "execution_count": 254,
   "id": "1160528e",
   "metadata": {},
   "outputs": [],
   "source": [
    "\"\"\"Método 'ffill' para reemplazar los valores nulos de las filas City State\"\"\"\n",
    "df[\"City\"].fillna( method ='ffill', inplace = True) \n",
    "df[\"State\"].fillna( method ='ffill', inplace = True) "
   ]
  },
  {
   "cell_type": "code",
   "execution_count": 255,
   "id": "807f5d29",
   "metadata": {},
   "outputs": [
    {
     "data": {
      "text/plain": [
       "CrimeId                  0\n",
       "OriginalCrimeTypeName    0\n",
       "OffenseDate              0\n",
       "CallTime                 0\n",
       "CallDateTime             0\n",
       "Disposition              0\n",
       "Address                  0\n",
       "City                     0\n",
       "State                    0\n",
       "AgencyId                 0\n",
       "AddressType              0\n",
       "dtype: int64"
      ]
     },
     "execution_count": 255,
     "metadata": {},
     "output_type": "execute_result"
    }
   ],
   "source": [
    "\"\"\"Visualizar nuevamente los valores nulos del Dataset\"\"\"\n",
    "df.isnull().sum()"
   ]
  },
  {
   "cell_type": "markdown",
   "id": "b7b918e2",
   "metadata": {},
   "source": [
    "Interpretación: En el anterior segmento, el método que se establece es ffill y, por lo tanto, el valor en la misma columna reemplaza el valor nulo. En este caso, el estado de vacíos reemplazó el valor nulo en la columna de la \"State\" y \"City\"  de las 321 y 3 filas para cada columna.De manera similar, que al visualizar nuevamente los valores nulos, se evidencia que todas las columnas tienen (0) valores nulos. Podemos decir entonces, que el dataset ha sido limpiado de los valores nulos existentes y ha pasado a ser un dataset con valores completos y sin ningún faltante."
   ]
  },
  {
   "cell_type": "markdown",
   "id": "59964fb5",
   "metadata": {},
   "source": [
    "#### 4) Limpieza y reemplazo de valores en la columna 'OriginalCrimeTypeName'"
   ]
  },
  {
   "cell_type": "code",
   "execution_count": 256,
   "id": "485cc174",
   "metadata": {},
   "outputs": [
    {
     "name": "stdout",
     "output_type": "stream",
     "text": [
      "OriginalCrimeTypeName\n",
      "***901 Req***    1.609610e+08\n",
      "**Tazer**        1.609413e+08\n",
      "*909*            1.609331e+08\n",
      ".25/500e         1.609436e+08\n",
      ".52              1.609640e+08\n",
      "                     ...     \n",
      "Wz               1.609389e+08\n",
      "X                1.609404e+08\n",
      "X 594            1.609213e+08\n",
      "Yelling          1.609306e+08\n",
      "`Drugs           1.609530e+08\n",
      "Name: CrimeId, Length: 575, dtype: float64\n"
     ]
    }
   ],
   "source": [
    "\"\"\"Mostrar los datos de la columna ('OriginalCrimeTypeName')\"\"\"\n",
    "\n",
    "limpieza1 = df['CrimeId'].groupby(df['OriginalCrimeTypeName']) \n",
    "\n",
    "\"\"\"Visualizar los datos junto a la media\"\"\"\n",
    "print(limpieza1.mean())  "
   ]
  },
  {
   "cell_type": "markdown",
   "id": "edf0ac07",
   "metadata": {},
   "source": [
    "Interpretación: Se observan muchos datos sucios dentro de la columna 'OriginalCrimeTypeName'. Por ejemplo se tienen valores que están dentro de asteriscos (***), tambien valores con caracteres (./´) o incluso valores alfanuméricos (X 594). Debido a esto se entiende que esta columna necesita que dichos valores sean reemplazados, por valores reales ó que vayan de acuerdo a la información que se tiene. "
   ]
  },
  {
   "cell_type": "code",
   "execution_count": 257,
   "id": "81b03fcf",
   "metadata": {},
   "outputs": [],
   "source": [
    "\"\"\"Reemplazo de valores sucios, por valores reales y acordes a la información del Dataset\"\"\"\n",
    "\n",
    "df = pd.DataFrame(df,columns=['OriginalCrimeTypeName','CrimeId'])\n",
    "\n",
    "df['OriginalCrimeTypeName']= df['OriginalCrimeTypeName'].replace(['***901 Req***', '**Tazer**', '*909*', '.25/500e', '.52', 'Wz', 'X',\n",
    "                                                                  'X 594', '594', '`Drugs'],\n",
    "                                                                 \n",
    "                      ['Asalto', 'Tazer', 'Crimen tipo2', 'Crimen tipo1', 'Crimen tipo3', 'Asesinato', 'Secuestro',\n",
    "                      'Robo', 'Accidente Tránsito',  'Drogas'])"
   ]
  },
  {
   "cell_type": "code",
   "execution_count": 258,
   "id": "454a5c9f",
   "metadata": {},
   "outputs": [
    {
     "data": {
      "text/html": [
       "<div>\n",
       "<style scoped>\n",
       "    .dataframe tbody tr th:only-of-type {\n",
       "        vertical-align: middle;\n",
       "    }\n",
       "\n",
       "    .dataframe tbody tr th {\n",
       "        vertical-align: top;\n",
       "    }\n",
       "\n",
       "    .dataframe thead th {\n",
       "        text-align: right;\n",
       "    }\n",
       "</style>\n",
       "<table border=\"1\" class=\"dataframe\">\n",
       "  <thead>\n",
       "    <tr style=\"text-align: right;\">\n",
       "      <th></th>\n",
       "      <th>OriginalCrimeTypeName</th>\n",
       "      <th>CrimeId</th>\n",
       "    </tr>\n",
       "  </thead>\n",
       "  <tbody>\n",
       "    <tr>\n",
       "      <th>9292</th>\n",
       "      <td>Asalto</td>\n",
       "      <td>160960992</td>\n",
       "    </tr>\n",
       "    <tr>\n",
       "      <th>5304</th>\n",
       "      <td>Tazer</td>\n",
       "      <td>160941301</td>\n",
       "    </tr>\n",
       "    <tr>\n",
       "      <th>6591</th>\n",
       "      <td>Crimen tipo1</td>\n",
       "      <td>160943538</td>\n",
       "    </tr>\n",
       "    <tr>\n",
       "      <th>9988</th>\n",
       "      <td>Crimen tipo3</td>\n",
       "      <td>160963959</td>\n",
       "    </tr>\n",
       "    <tr>\n",
       "      <th>2926</th>\n",
       "      <td>Asesinato</td>\n",
       "      <td>160931083</td>\n",
       "    </tr>\n",
       "    <tr>\n",
       "      <th>3057</th>\n",
       "      <td>Secuestro</td>\n",
       "      <td>160931334</td>\n",
       "    </tr>\n",
       "    <tr>\n",
       "      <th>825</th>\n",
       "      <td>Robo</td>\n",
       "      <td>160921285</td>\n",
       "    </tr>\n",
       "    <tr>\n",
       "      <th>8410</th>\n",
       "      <td>Drogas</td>\n",
       "      <td>160953006</td>\n",
       "    </tr>\n",
       "  </tbody>\n",
       "</table>\n",
       "</div>"
      ],
      "text/plain": [
       "     OriginalCrimeTypeName    CrimeId\n",
       "9292                Asalto  160960992\n",
       "5304                 Tazer  160941301\n",
       "6591          Crimen tipo1  160943538\n",
       "9988          Crimen tipo3  160963959\n",
       "2926             Asesinato  160931083\n",
       "3057             Secuestro  160931334\n",
       "825                   Robo  160921285\n",
       "8410                Drogas  160953006"
      ]
     },
     "execution_count": 258,
     "metadata": {},
     "output_type": "execute_result"
    }
   ],
   "source": [
    "\"\"\"Mostrar los valores que fueron reemplazados\"\"\"\n",
    "df.loc[[9292, 5304, 6591, 9988, 2926, 3057, 825, 8410], :]"
   ]
  },
  {
   "cell_type": "markdown",
   "id": "3100d369",
   "metadata": {},
   "source": [
    "Interpretación: Ahora, una vez ejecuta la función replace() y haber colocado los valores que se deseaban cambiar, podemos ver los resultados exitosos. Ya que, El método replace() busca en una cadena específica el valor que uno mismo define. Cuándo el método es ejecutado devuelve una nueva cadena de datos con los valores ya modificados. Aclarando, no se cambia la columna original, solo se reemplazan los valores por unos que son óptimos y de acuerdo a la información de la columna. Con (.loc) se visualiza de manera específica los valores modificados de la columna \"OriginalCrimeTypeName\"."
   ]
  },
  {
   "cell_type": "markdown",
   "id": "1079b5e4",
   "metadata": {},
   "source": [
    "#### 5) Limpieza y reemplazo de valores en la columna 'Disposition'"
   ]
  },
  {
   "cell_type": "code",
   "execution_count": 270,
   "id": "f1bbbeae",
   "metadata": {},
   "outputs": [
    {
     "name": "stdout",
     "output_type": "stream",
     "text": [
      "Disposition\n",
      "22              1.609427e+08\n",
      "ABA             1.609392e+08\n",
      "ADM             1.609364e+08\n",
      "ADV             1.609394e+08\n",
      "ARR             1.609352e+08\n",
      "CAN             1.609389e+08\n",
      "CIT             1.609410e+08\n",
      "CRT             1.609514e+08\n",
      "GOA             1.609386e+08\n",
      "HAN             1.609395e+08\n",
      "INC             1.609409e+08\n",
      "NCR             1.609399e+08\n",
      "ND              1.609377e+08\n",
      "NOM             1.609401e+08\n",
      "Not recorded    1.609391e+08\n",
      "PAS             1.609373e+08\n",
      "REP             1.609389e+08\n",
      "SFD             1.609539e+08\n",
      "UTL             1.609391e+08\n",
      "Name: CrimeId, dtype: float64\n"
     ]
    }
   ],
   "source": [
    "\"\"\"Mostrar los datos de la columna ('Disposition')\"\"\" \n",
    "\n",
    "limpieza2 = df['CrimeId'].groupby(df['Disposition']) \n",
    "\n",
    "\"\"\"Visualizar los datos junto a la media\"\"\"\n",
    "print(limpieza2.mean())  "
   ]
  },
  {
   "cell_type": "markdown",
   "id": "40f2292d",
   "metadata": {},
   "source": [
    "Interpretación: Para la columna Disposition, se observan pocos valores sucios, o que no van de acuerdo a la información de la columan. En este caso podemos visualizar que existe un valor numérico \"22\" que a diferencia del resto no indica nada. Ya que todos los demás valores están escritos en siglas. Es por esto que se va a reemplar dicho valor para obtener una columna con información más específica y clara."
   ]
  },
  {
   "cell_type": "code",
   "execution_count": 271,
   "id": "71f8df18",
   "metadata": {},
   "outputs": [],
   "source": [
    "\"\"\"Reemplazo de valores sucios, por valores reales y acordes a la información del Dataset\"\"\"\n",
    "\n",
    "df = pd.DataFrame(df,columns=['Disposition','CrimeId'])\n",
    "\n",
    "df['Disposition']= df['Disposition'].replace(['22'], ['TNT'])"
   ]
  },
  {
   "cell_type": "code",
   "execution_count": 272,
   "id": "fea444d3",
   "metadata": {},
   "outputs": [
    {
     "name": "stdout",
     "output_type": "stream",
     "text": [
      "Valores de la columna Disposition\n",
      "0                 REP\n",
      "1                 GOA\n",
      "2                 GOA\n",
      "3                 GOA\n",
      "4                 REP\n",
      "             ...     \n",
      "10046             GOA\n",
      "10047             ADV\n",
      "10048             CIT\n",
      "10049    Not recorded\n",
      "10050             ADV\n",
      "Name: Disposition, Length: 10051, dtype: object\n"
     ]
    }
   ],
   "source": [
    "print(\"Valores de la columna Disposition\") \n",
    "print(df['Disposition']) "
   ]
  },
  {
   "cell_type": "markdown",
   "id": "bb5ac389",
   "metadata": {},
   "source": [
    "Interpretación: Ahora podemos ver que el valor numérico de \"22\" fue reemplazo por las siglas \"TNT\". De esta manera podemos determinar que el proceso de reemplazo se ejecuto con éxito. De esta manera, la columna de \"Disposition\" ha quedado limpia de valores sucios o que están descoodinados con relación a los demas valores de dicha columna de datos.  "
   ]
  },
  {
   "cell_type": "markdown",
   "id": "8c885ea0",
   "metadata": {},
   "source": [
    "#### 6) Limpieza y reemplazo de valores en la columna 'City'"
   ]
  },
  {
   "cell_type": "code",
   "execution_count": 278,
   "id": "08f1c84d",
   "metadata": {},
   "outputs": [
    {
     "name": "stdout",
     "output_type": "stream",
     "text": [
      "City\n",
      " S               1.609523e+08\n",
      "Brisbane         1.609614e+08\n",
      "Daly City        1.609359e+08\n",
      "Presidio         1.609561e+08\n",
      "SAN FRANCISCO    1.609319e+08\n",
      "San Francisco    1.609394e+08\n",
      "Treasure Isla    1.609364e+08\n",
      "Yerba Buena      1.609364e+08\n",
      "Name: CrimeId, dtype: float64\n"
     ]
    }
   ],
   "source": [
    "\"\"\"Mostrar los datos de la columna (City)\"\"\" \n",
    "\n",
    "limpieza3 = df['CrimeId'].groupby(df['City']) \n",
    "  \n",
    "\"\"\"Visualizar los datos junto a la media\"\"\"\n",
    "print(limpieza3.mean()) "
   ]
  },
  {
   "cell_type": "markdown",
   "id": "d5e0dd28",
   "metadata": {},
   "source": [
    "Interpretación: En este caso vemos dos tipos de errores en los valores pertenecientes a la columna de (City). El primero de ellos es que en los nombres de las ciudades hay unas que están escritas en mayúsculas y otras en minúsculas. También otro error que es muy notable es el de que existe según un nombre de (S) para una ciudad, si visualizamos en un mapa ese nombre evidentemente este no exite. Dicho esto, esos valores van a ser reemplazados para luego limpiar la columna de las Ciudades."
   ]
  },
  {
   "cell_type": "code",
   "execution_count": 281,
   "id": "7407ee67",
   "metadata": {},
   "outputs": [],
   "source": [
    "\"\"\"Convertir a minúsculas\"\"\"\n",
    "df['City'] = df['City'].str.lower() "
   ]
  },
  {
   "cell_type": "code",
   "execution_count": 291,
   "id": "54263c4c",
   "metadata": {},
   "outputs": [],
   "source": [
    "\"\"\"Reemplazo de valores sucios, por valores reales y acordes a la información del Dataset\"\"\"\n",
    "\n",
    "df = pd.DataFrame(df,columns=['City','CrimeId'])\n",
    "\n",
    "df['City']= df['City'].replace(['S'], ['Londres'])"
   ]
  },
  {
   "cell_type": "code",
   "execution_count": 292,
   "id": "ffb4af84",
   "metadata": {},
   "outputs": [
    {
     "name": "stdout",
     "output_type": "stream",
     "text": [
      "Valores de la columna City\n",
      "0        San Francisco\n",
      "1        San Francisco\n",
      "2        San Francisco\n",
      "3        San Francisco\n",
      "4        San Francisco\n",
      "             ...      \n",
      "10046    San Francisco\n",
      "10047    San Francisco\n",
      "10048    San Francisco\n",
      "10049    San Francisco\n",
      "10050    San Francisco\n",
      "Name: City, Length: 10051, dtype: object\n"
     ]
    }
   ],
   "source": [
    "print(\"Valores de la columna City\") \n",
    "print(df['City']) "
   ]
  },
  {
   "cell_type": "markdown",
   "id": "f9d43d81",
   "metadata": {},
   "source": [
    "Interpretación: Para la columna que muestra las Ciudades (City) se han hechos los cambios de manera exitosa. Primero se transformo de mayúsculas a minúsculas por medio del método .str.lower(). Este método convierte las cadenas de string en minúsculas, po lo que ahora todos los nombres de las ciudades se encuentran en minúsculas. Por otro lado también se reemplazo a el valor de \"S\" por el nombre de la ciudad de \"Londres\". Ahora podemos decir que esta fila se encuentra también limpia y sin valores incoherentes o nulos."
   ]
  },
  {
   "cell_type": "markdown",
   "id": "d7fd9471",
   "metadata": {},
   "source": [
    "#### 7) Limpieza y reemplazo de valores en la columna 'AddressType'"
   ]
  },
  {
   "cell_type": "code",
   "execution_count": 280,
   "id": "51e3d824",
   "metadata": {},
   "outputs": [
    {
     "name": "stdout",
     "output_type": "stream",
     "text": [
      "AddressType\n",
      "1                  1.609492e+08\n",
      "Common Location    1.609389e+08\n",
      "Geo-Override       1.609397e+08\n",
      "Intersection       1.609397e+08\n",
      "Intersectioon      1.609326e+08\n",
      "Premise Address    1.609392e+08\n",
      "Name: CrimeId, dtype: float64\n"
     ]
    }
   ],
   "source": [
    "limpieza4 = df['CrimeId'].groupby(df['AddressType']) \n",
    "  \n",
    "print(limpieza4.mean()) "
   ]
  },
  {
   "cell_type": "markdown",
   "id": "656ce61e",
   "metadata": {},
   "source": [
    "Los errores encontrados en esta columna no son muchos. Pero si se encuentran valores numéricos, que no tienen nada que ver con los datos de dicho grupo. Entonces al igual que en los pasos anteriores se procede a realizar el cambio de valores con la función replace(). De este modo se sustituye el (1) por la un tipo de dirección (Common Location). "
   ]
  },
  {
   "cell_type": "code",
   "execution_count": 284,
   "id": "cdc4d4d9",
   "metadata": {},
   "outputs": [],
   "source": [
    "\"\"\"Reemplazo de valores sucios, por valores reales y acordes a la información del Dataset\"\"\"\n",
    "\n",
    "df = pd.DataFrame(df,columns=['AddressType','CrimeId'])\n",
    "\n",
    "df['AddressType']= df['AddressType'].replace(['1'], ['Common Location'])"
   ]
  },
  {
   "cell_type": "code",
   "execution_count": 285,
   "id": "df57a9e1",
   "metadata": {},
   "outputs": [
    {
     "name": "stdout",
     "output_type": "stream",
     "text": [
      "Valores de la columna AddressType\n",
      "0        Premise Address\n",
      "1        Premise Address\n",
      "2        Premise Address\n",
      "3        Premise Address\n",
      "4           Intersection\n",
      "              ...       \n",
      "10046       Intersection\n",
      "10047       Intersection\n",
      "10048       Intersection\n",
      "10049       Geo-Override\n",
      "10050       Intersection\n",
      "Name: AddressType, Length: 10051, dtype: object\n"
     ]
    }
   ],
   "source": [
    "print(\"Valores de la columna AddressType\") \n",
    "print(df['AddressType']) "
   ]
  },
  {
   "cell_type": "markdown",
   "id": "4d3ccc90",
   "metadata": {},
   "source": [
    "# Convertir el dataset csv a JSON"
   ]
  },
  {
   "cell_type": "markdown",
   "id": "03e16fc5",
   "metadata": {},
   "source": [
    "Los archivos CSV (o valores separados por comas) representan datos en un formato tabular, con varias filas y columnas. Un ejemplo de un archivo CSV puede ser una hoja de cálculo de Excel. Estos archivos tienen la extensión de .csv\n",
    "\n",
    "Por otro lado, JSON (o JavaScript Object Notation) es una notación similar a un diccionario que se puede usar importando el paquete JSON en Python. Cada registro (o fila) se guarda como un diccionario separado, con los nombres de las columnas como claves del diccionario. "
   ]
  },
  {
   "cell_type": "code",
   "execution_count": 298,
   "id": "dd9153eb",
   "metadata": {},
   "outputs": [],
   "source": [
    "\"\"\"Leer el archivo como csv\"\"\"\n",
    "df = pd.read_csv (r'data_act_01.csv')\n",
    "\n",
    "\"\"\"Cambiar el archivo al formato JSON\"\"\"\n",
    "df.to_json (r'data_act_01.json')"
   ]
  },
  {
   "cell_type": "markdown",
   "id": "24ce4860",
   "metadata": {},
   "source": [
    "Trabajar con grandes conjuntos de datos puede deteriorarse, principalmente cuando son demasiado grandes para caber en la memoria. En casos como este, la biblioteca de Pandas puede ser una forma eficiente de explorar y analizar los datos. Además, podemos convertir a JSON y a casi cualquier tipo de datos estándar a cualquier otro tipo de datos utilizando la biblioteca pandas."
   ]
  },
  {
   "cell_type": "code",
   "execution_count": null,
   "id": "5e28de31",
   "metadata": {},
   "outputs": [],
   "source": []
  }
 ],
 "metadata": {
  "kernelspec": {
   "display_name": "Python 3 (ipykernel)",
   "language": "python",
   "name": "python3"
  },
  "language_info": {
   "codemirror_mode": {
    "name": "ipython",
    "version": 3
   },
   "file_extension": ".py",
   "mimetype": "text/x-python",
   "name": "python",
   "nbconvert_exporter": "python",
   "pygments_lexer": "ipython3",
   "version": "3.9.12"
  }
 },
 "nbformat": 4,
 "nbformat_minor": 5
}
